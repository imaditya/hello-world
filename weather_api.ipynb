{
  "nbformat": 4,
  "nbformat_minor": 0,
  "metadata": {
    "colab": {
      "provenance": [],
      "authorship_tag": "ABX9TyO3YXbFs7MX6G+5zABle11Q",
      "include_colab_link": true
    },
    "kernelspec": {
      "name": "python3",
      "display_name": "Python 3"
    },
    "language_info": {
      "name": "python"
    }
  },
  "cells": [
    {
      "cell_type": "markdown",
      "metadata": {
        "id": "view-in-github",
        "colab_type": "text"
      },
      "source": [
        "<a href=\"https://colab.research.google.com/github/imaditya/hello-world/blob/master/weather_api.ipynb\" target=\"_parent\"><img src=\"https://colab.research.google.com/assets/colab-badge.svg\" alt=\"Open In Colab\"/></a>"
      ]
    },
    {
      "cell_type": "code",
      "source": [
        "import requests\n",
        "\n",
        "# Replace with your actual API key\n",
        "API_KEY = \"224cb7edb1224d72b8b131521241505\"\n",
        "\n",
        "# Base URL for WeatherAPI\n",
        "BASE_URL = \"https://api.weatherapi.com/v1/\"\n",
        "\n",
        "# Example: Get current weather for a specific location (e.g., New York)\n",
        "location = \"Gurgaon\"\n",
        "endpoint = f\"current.json?key={API_KEY}&q={location}\"\n",
        "\n",
        "try:\n",
        "    response = requests.get(BASE_URL + endpoint)\n",
        "    data = response.json()\n",
        "\n",
        "    # Extract relevant information from the response\n",
        "    temperature = data[\"current\"][\"temp_c\"]\n",
        "    condition = data[\"current\"][\"condition\"][\"text\"]\n",
        "\n",
        "    print(f\"Current temperature in {location}: {temperature}°C ({condition})\")\n",
        "except requests.RequestException as e:\n",
        "    print(f\"Error fetching data: {e}\")\n"
      ],
      "metadata": {
        "colab": {
          "base_uri": "https://localhost:8080/"
        },
        "id": "ZNH5Oit7kPOA",
        "outputId": "6558f0dd-6034-4501-f5d4-68e066031ce8"
      },
      "execution_count": null,
      "outputs": [
        {
          "output_type": "stream",
          "name": "stdout",
          "text": [
            "Current temperature in Gurgaon: 38.0°C (Mist)\n"
          ]
        }
      ]
    }
  ]
}